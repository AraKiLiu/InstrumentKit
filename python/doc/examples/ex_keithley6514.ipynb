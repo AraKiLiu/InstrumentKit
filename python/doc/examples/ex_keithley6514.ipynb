{
 "metadata": {
  "name": ""
 },
 "nbformat": 3,
 "nbformat_minor": 0,
 "worksheets": [
  {
   "cells": [
    {
     "cell_type": "heading",
     "level": 1,
     "metadata": {},
     "source": [
      "InstrumentKit Example Library"
     ]
    },
    {
     "cell_type": "heading",
     "level": 2,
     "metadata": {},
     "source": [
      "Keithley 6514 Electrometer"
     ]
    },
    {
     "cell_type": "code",
     "collapsed": false,
     "input": [
      "%pylab inline\n",
      "import instruments as ik"
     ],
     "language": "python",
     "metadata": {},
     "outputs": [
      {
       "output_type": "stream",
       "stream": "stdout",
       "text": [
        "Populating the interactive namespace from numpy and matplotlib\n"
       ]
      }
     ],
     "prompt_number": 1
    },
    {
     "cell_type": "markdown",
     "metadata": {},
     "source": [
      "Here, our device is connected via a gpibusb adaptor, on COM5, address 14."
     ]
    },
    {
     "cell_type": "code",
     "collapsed": false,
     "input": [
      "elec=ik.keithley.Keithley6514.open_gpibusb('COM5', 14)"
     ],
     "language": "python",
     "metadata": {},
     "outputs": [],
     "prompt_number": 2
    },
    {
     "cell_type": "markdown",
     "metadata": {},
     "source": [
      "Now we query a few standard bits of information:"
     ]
    },
    {
     "cell_type": "code",
     "collapsed": false,
     "input": [
      "print elec.query('*IDN?')\n",
      "print \"Mode: {}\".format(elec.mode.value)\n",
      "print \"Unit: {}\".format(elec.unit)\n",
      "print \"Upper Range Limit: {}\".format(elec.input_range)\n",
      "print \"Zero Check: {}\".format(elec.zero_check)\n",
      "print \"Zero Correct: {}\".format(elec.zero_correct)"
     ],
     "language": "python",
     "metadata": {},
     "outputs": [
      {
       "output_type": "stream",
       "stream": "stdout",
       "text": [
        "KEITHLEY INSTRUMENTS INC.,MODEL 6514,1344784,A12   Aug 29 2008 15:40:25/A02  /D\n",
        "Mode: CURR:DC\n",
        "Unit: 1 A (ampere)"
       ]
      },
      {
       "output_type": "stream",
       "stream": "stdout",
       "text": [
        "\n",
        "Upper Range Limit: 2.1e-10 A"
       ]
      },
      {
       "output_type": "stream",
       "stream": "stdout",
       "text": [
        "\n",
        "Zero Check: False\n",
        "Zero Correct: False"
       ]
      },
      {
       "output_type": "stream",
       "stream": "stdout",
       "text": [
        "\n"
       ]
      }
     ],
     "prompt_number": 8
    },
    {
     "cell_type": "markdown",
     "metadata": {},
     "source": [
      "Use the auto config function to set up a resistance measurement."
     ]
    },
    {
     "cell_type": "code",
     "collapsed": false,
     "input": [
      "elec.auto_config(elec.Mode.resistance)"
     ],
     "language": "python",
     "metadata": {},
     "outputs": [],
     "prompt_number": 9
    },
    {
     "cell_type": "markdown",
     "metadata": {},
     "source": [
      "Check the status of things again:"
     ]
    },
    {
     "cell_type": "code",
     "collapsed": false,
     "input": [
      "print elec.query('*IDN?')\n",
      "print \"Mode: {}\".format(elec.mode.value)\n",
      "print \"Unit: {}\".format(elec.unit)\n",
      "print \"Upper Range Limit: {}\".format(elec.input_range)\n",
      "print \"Zero Check: {}\".format(elec.zero_check)\n",
      "print \"Zero Correct: {}\".format(elec.zero_correct)"
     ],
     "language": "python",
     "metadata": {},
     "outputs": [
      {
       "output_type": "stream",
       "stream": "stdout",
       "text": [
        "KEITHLEY INSTRUMENTS INC.,MODEL 6514,1344784,A12   Aug 29 2008 15:40:25/A02  /D\n",
        "Mode: RES\n",
        "Unit: 1 ohm (ohm)"
       ]
      },
      {
       "output_type": "stream",
       "stream": "stdout",
       "text": [
        "\n",
        "Upper Range Limit: 210000.0 ohm"
       ]
      },
      {
       "output_type": "stream",
       "stream": "stdout",
       "text": [
        "\n",
        "Zero Check: False\n",
        "Zero Correct: False"
       ]
      },
      {
       "output_type": "stream",
       "stream": "stdout",
       "text": [
        "\n"
       ]
      }
     ],
     "prompt_number": 10
    },
    {
     "cell_type": "markdown",
     "metadata": {},
     "source": [
      "Take a single reading:"
     ]
    },
    {
     "cell_type": "code",
     "collapsed": false,
     "input": [
      "reading, timestamp = elec.read()\n",
      "print \"Current Reading: {}\".format(reading)"
     ],
     "language": "python",
     "metadata": {},
     "outputs": [
      {
       "output_type": "stream",
       "stream": "stdout",
       "text": [
        "Current Reading: 667303.4 ohm\n"
       ]
      }
     ],
     "prompt_number": 11
    },
    {
     "cell_type": "markdown",
     "metadata": {},
     "source": [
      "Take 100 readings and plot them:"
     ]
    },
    {
     "cell_type": "code",
     "collapsed": false,
     "input": [
      "timestamps = np.empty(100)\n",
      "readings = np.empty(100)\n",
      "for idx in xrange(100):\n",
      "    readings[idx], timestamps[idx] = elec.read()"
     ],
     "language": "python",
     "metadata": {},
     "outputs": [],
     "prompt_number": 14
    },
    {
     "cell_type": "code",
     "collapsed": false,
     "input": [
      "plot(timestamps, readings)\n",
      "xlabel('time (s)')\n",
      "ylabel('({})'.format(elec.unit.name))"
     ],
     "language": "python",
     "metadata": {},
     "outputs": [
      {
       "metadata": {},
       "output_type": "pyout",
       "prompt_number": 15,
       "text": [
        "<matplotlib.text.Text at 0x8665cc0>"
       ]
      },
      {
       "metadata": {},
       "output_type": "display_data",
       "png": "[encoded data removed]",
       "text": [
        "<matplotlib.figure.Figure at 0x86922b0>"
       ]
      }
     ],
     "prompt_number": 15
    },
    {
     "cell_type": "code",
     "collapsed": false,
     "input": [],
     "language": "python",
     "metadata": {},
     "outputs": []
    }
   ],
   "metadata": {}
  }
 ]
}